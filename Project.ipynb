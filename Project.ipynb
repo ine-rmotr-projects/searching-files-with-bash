{
 "cells": [
  {
   "cell_type": "markdown",
   "metadata": {},
   "source": [
    "![ine-divider](https://user-images.githubusercontent.com/7065401/92672068-398e8080-f2ee-11ea-82d6-ad53f7feb5c0.png)\n",
    "<hr>\n",
    "\n",
    "### Bash Scripting for Data Scientists\n",
    "# Searching files with bash\n",
    "\n",
    "This project will have somewhat unusual requirements among INE data science courses.  Most such projects ask you to complete cells in a notebook such as this.  However, working with the command line necessarily is about the command line, not notebooks.  This repository itself will provide a variety of files that we can search, filter, and archive.\n",
    "\n",
    "There *does* exist a bash kernel for Jupyter, which this notebook is saved as. To install it execute in your terminal:\n",
    "\n",
    "```\n",
    "pip install bash_kernel\n",
    "python -m bash_kernel.install\n",
    "```\n",
    "\n",
    "and restart your Notebook.\n",
    "\n",
    "However, the kinds of interactivity you have at a shell are much more flexible than in a notebook.  However, you *can* run bash commands if you install that Jupyter kernel. E.g.:"
   ]
  },
  {
   "cell_type": "code",
   "execution_count": 8,
   "metadata": {},
   "outputs": [
    {
     "name": "stdout",
     "output_type": "stream",
     "text": [
      ".DS_Store\n",
      ".ipynb_checkpoints\n",
      "Project.ipynb\n",
      "README.md\n",
      "Solutions.ipynb\n"
     ]
    }
   ],
   "source": [
    "ls -A1"
   ]
  },
  {
   "cell_type": "markdown",
   "metadata": {},
   "source": [
    "If you are using a Python kernel in Jupyter, you can run bash commands in cells using the `%%bash` \"magic\". E.g.\n",
    "\n",
    "```\n",
    "%%bash\n",
    "ls -A1\n",
    "```"
   ]
  },
  {
   "cell_type": "markdown",
   "metadata": {},
   "source": [
    "![orange-divider](https://user-images.githubusercontent.com/7065401/92672455-187a5f80-f2ef-11ea-890c-40be9474f7b7.png)"
   ]
  },
  {
   "cell_type": "markdown",
   "metadata": {},
   "source": [
    "## Part 1\n",
    "\n",
    "**Searching**\n",
    "\n",
    "* Locate all of the Markdown (`.md`) files that contain the string 'Moby'.  List only the filenames of matching files.\n",
    "\n",
    "* Locate all of the Markdown files that *do not* contain the string Moby.\n",
    "\n",
    "* Count the number of lines that contain matches, per file in this repository (include all file types).  Do not include files that contain zero matches.\n",
    "\n",
    "* Locate all the files in this repository that are larger than 10,000 bytes."
   ]
  },
  {
   "cell_type": "markdown",
   "metadata": {},
   "source": [
    "![orange-divider](https://user-images.githubusercontent.com/7065401/92672455-187a5f80-f2ef-11ea-890c-40be9474f7b7.png)\n",
    "\n",
    "## Part 2\n",
    "\n",
    "**Filtering**\n",
    "\n",
    "* In the book *Moby Dick*, in this local directory, what percentage of the lines that contain the word \"whale\" also contain the word \"white\"? Do this search in a case insensitive way since some may be capitalized at the start of sentences (the correct answer is 7%, but write a command to find that).\n",
    "\n",
    "* Create, using a bash pipeline, a histogram of the words in *Moby Dick*.  Canonicalize words to lower case.  Using the tool `tr` will likely be used in this; check its manual page. You may need a fairly long pipeline for this task, but it can be done in one line.  As a hint, the report should start like this:\n",
    "\n",
    "```\n",
    "14279 the\n",
    " 6575 of\n",
    " 6349 and\n",
    " 4610 a\n",
    " 4587 to\n",
    " 4119 in\n",
    "```"
   ]
  },
  {
   "cell_type": "markdown",
   "metadata": {},
   "source": [
    "![orange-divider](https://user-images.githubusercontent.com/7065401/92672455-187a5f80-f2ef-11ea-890c-40be9474f7b7.png)\n",
    "\n",
    "## Part 3\n",
    "\n",
    "**Archiving**\n",
    "\n",
    "* Compare the compressed size of *Moby Dick* using each of `gzip`, `bzip2` and `xz`, each in minimum and maximum compression modes."
   ]
  },
  {
   "cell_type": "markdown",
   "metadata": {},
   "source": [
    "![orange-divider](https://user-images.githubusercontent.com/7065401/92672455-187a5f80-f2ef-11ea-890c-40be9474f7b7.png)"
   ]
  }
 ],
 "metadata": {
  "kernelspec": {
   "display_name": "Bash",
   "language": "bash",
   "name": "bash"
  },
  "language_info": {
   "codemirror_mode": "shell",
   "file_extension": ".sh",
   "mimetype": "text/x-sh",
   "name": "bash"
  }
 },
 "nbformat": 4,
 "nbformat_minor": 4
}
